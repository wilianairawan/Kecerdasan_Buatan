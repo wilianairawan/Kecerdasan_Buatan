{
  "cells": [
    {
      "cell_type": "markdown",
      "id": "334fa7e9",
      "metadata": {
        "id": "334fa7e9"
      },
      "source": [
        "# Implementasi Algoritma Genetika\n",
        "Studi Kasus: Penjadwalan Kelas\n",
        "\n",
        "Notebook ini berisi implementasi sederhana Algoritma Genetika untuk menyelesaikan masalah penjadwalan kelas. Algoritma Genetika terdiri dari beberapa komponen utama seperti inisialisasi populasi, seleksi, crossover, mutasi, dan evaluasi."
      ]
    },
    {
      "cell_type": "markdown",
      "id": "314f23ac",
      "metadata": {
        "id": "314f23ac"
      },
      "source": [
        "## 1. Data dan Representasi Kromosom\n",
        "Kromosom direpresentasikan sebagai list `[Dosen,MataKuliah,Kelas,Waktu]`."
      ]
    },
    {
      "cell_type": "code",
      "execution_count": 1,
      "id": "81417658",
      "metadata": {
        "id": "81417658"
      },
      "outputs": [],
      "source": [
        "import random\n",
        "\n",
        "# Data contoh\n",
        "Dosen = ['Dosen A', 'Dosen B', 'Dosen C']\n",
        "MataKuliah = ['Internet Of Things', 'Kecerdasan Buatan', 'Big Data']\n",
        "Kelas = ['Kelas TI23G', 'Kelas TI23J', 'Kelas TI23F']\n",
        "Hari = ['Senin', 'Selasa', 'Rabu', 'Kamis']\n",
        "\n",
        "# Membuat individu/kromosom\n",
        "def create_individual():\n",
        "    return [\n",
        "        random.choice(Dosen),\n",
        "        random.choice(MataKuliah),\n",
        "        random.choice(Kelas),\n",
        "        random.choice(Hari)\n",
        "    ]"
      ]
    },
    {
      "cell_type": "markdown",
      "id": "d04279bb",
      "metadata": {
        "id": "d04279bb"
      },
      "source": [
        "## 2. Fungsi Fitness\n",
        "Menghitung jumlah konflik jadwal (kelas yang sama di waktu yang sama)."
      ]
    },
    {
      "cell_type": "code",
      "execution_count": 2,
      "id": "c6908ea9",
      "metadata": {
        "id": "c6908ea9"
      },
      "outputs": [],
      "source": [
        "def fitness(individual, schedule):\n",
        "    conflicts = 0\n",
        "    for i in range(len(schedule)):\n",
        "        for j in range(i + 1, len(schedule)):\n",
        "            if individual[2] == schedule[i][2] and individual[3] == schedule[i][3]:\n",
        "                conflicts += 1\n",
        "    return conflicts"
      ]
    },
    {
      "cell_type": "markdown",
      "id": "4c34982b",
      "metadata": {
        "id": "4c34982b"
      },
      "source": [
        "## 3. Seleksi\n",
        "Memilih dua individu terbaik berdasarkan fitness."
      ]
    },
    {
      "cell_type": "code",
      "execution_count": 3,
      "id": "7bc6cd6b",
      "metadata": {
        "id": "7bc6cd6b"
      },
      "outputs": [],
      "source": [
        "def selection(population, schedule):\n",
        "    sorted_population = sorted(population, key=lambda ind: fitness(ind, schedule))\n",
        "    return sorted_population[:2]"
      ]
    },
    {
      "cell_type": "markdown",
      "id": "f7c38fde",
      "metadata": {
        "id": "f7c38fde"
      },
      "source": [
        "## 4. Crossover\n",
        "Menggabungkan dua individu dengan satu titik crossover."
      ]
    },
    {
      "cell_type": "code",
      "execution_count": 4,
      "id": "c82d7a0f",
      "metadata": {
        "id": "c82d7a0f"
      },
      "outputs": [],
      "source": [
        "def crossover(parent1, parent2):\n",
        "    crossover_point = random.randint(1, 3)\n",
        "    child1 = parent1[:crossover_point] + parent2[crossover_point:]\n",
        "    child2 = parent2[:crossover_point] + parent1[crossover_point:]\n",
        "    return child1, child2"
      ]
    },
    {
      "cell_type": "markdown",
      "id": "631d8a5b",
      "metadata": {
        "id": "631d8a5b"
      },
      "source": [
        "## 5. Mutasi\n",
        "Melakukan perubahan acak pada salah satu bagian kromosom."
      ]
    },
    {
      "cell_type": "code",
      "execution_count": 8,
      "id": "08db75fb",
      "metadata": {
        "id": "08db75fb"
      },
      "outputs": [],
      "source": [
        "def mutate(individual):\n",
        "    mutation_point = random.randint(0, 3)\n",
        "    if mutation_point == 0:\n",
        "        individual[mutation_point] = random.choice(Dosen)\n",
        "    elif mutation_point == 1:\n",
        "        individual[mutation_point] = random.choice(MataKuliah)\n",
        "    elif mutation_point == 2:\n",
        "        individual[mutation_point] = random.choice(Kelas)\n",
        "    else:\n",
        "        individual[mutation_point] = random.choice(Hari)\n",
        "    return individual"
      ]
    },
    {
      "cell_type": "markdown",
      "id": "04d8e777",
      "metadata": {
        "id": "04d8e777"
      },
      "source": [
        "## 6. Algoritma Genetika Utama\n",
        "Menjalankan proses evolusi hingga beberapa generasi untuk membentuk jadwal terbaik."
      ]
    },
    {
      "cell_type": "code",
      "execution_count": 9,
      "id": "32ae373b",
      "metadata": {
        "colab": {
          "base_uri": "https://localhost:8080/"
        },
        "id": "32ae373b",
        "outputId": "fb669080-11fe-42db-de2a-940b1f8b2c13"
      },
      "outputs": [
        {
          "output_type": "stream",
          "name": "stdout",
          "text": [
            "Generasi 1: ['Dosen C', 'Big Data', 'Kelas TI23F', 'Kamis'] | Fitness: 0\n",
            "Generasi 2: ['Dosen C', 'Kecerdasan Buatan', 'Kelas TI23J', 'Selasa'] | Fitness: 0\n",
            "Generasi 3: ['Dosen C', 'Big Data', 'Kelas TI23F', 'Senin'] | Fitness: 0\n",
            "Generasi 4: ['Dosen C', 'Kecerdasan Buatan', 'Kelas TI23F', 'Senin'] | Fitness: 1\n",
            "Generasi 5: ['Dosen B', 'Internet Of Things', 'Kelas TI23F', 'Selasa'] | Fitness: 0\n",
            "Generasi 6: ['Dosen B', 'Internet Of Things', 'Kelas TI23J', 'Senin'] | Fitness: 0\n",
            "Generasi 7: ['Dosen B', 'Internet Of Things', 'Kelas TI23G', 'Kamis'] | Fitness: 0\n",
            "Generasi 8: ['Dosen B', 'Internet Of Things', 'Kelas TI23J', 'Kamis'] | Fitness: 0\n",
            "Generasi 9: ['Dosen A', 'Internet Of Things', 'Kelas TI23G', 'Selasa'] | Fitness: 0\n",
            "Generasi 10: ['Dosen A', 'Internet Of Things', 'Kelas TI23G', 'Selasa'] | Fitness: 1\n",
            "Generasi 11: ['Dosen B', 'Internet Of Things', 'Kelas TI23G', 'Senin'] | Fitness: 0\n",
            "Generasi 12: ['Dosen B', 'Kecerdasan Buatan', 'Kelas TI23G', 'Rabu'] | Fitness: 0\n",
            "Generasi 13: ['Dosen A', 'Kecerdasan Buatan', 'Kelas TI23G', 'Rabu'] | Fitness: 1\n",
            "Generasi 14: ['Dosen A', 'Kecerdasan Buatan', 'Kelas TI23J', 'Rabu'] | Fitness: 0\n",
            "Generasi 15: ['Dosen C', 'Kecerdasan Buatan', 'Kelas TI23J', 'Rabu'] | Fitness: 1\n",
            "Generasi 16: ['Dosen C', 'Kecerdasan Buatan', 'Kelas TI23F', 'Rabu'] | Fitness: 0\n",
            "Generasi 17: ['Dosen C', 'Kecerdasan Buatan', 'Kelas TI23F', 'Rabu'] | Fitness: 1\n",
            "Generasi 18: ['Dosen A', 'Kecerdasan Buatan', 'Kelas TI23F', 'Rabu'] | Fitness: 3\n",
            "Generasi 19: ['Dosen C', 'Big Data', 'Kelas TI23F', 'Rabu'] | Fitness: 6\n",
            "Generasi 20: ['Dosen C', 'Big Data', 'Kelas TI23F', 'Rabu'] | Fitness: 10\n",
            "Generasi 21: ['Dosen C', 'Big Data', 'Kelas TI23F', 'Rabu'] | Fitness: 15\n",
            "Generasi 22: ['Dosen C', 'Big Data', 'Kelas TI23J', 'Rabu'] | Fitness: 15\n",
            "Generasi 23: ['Dosen C', 'Big Data', 'Kelas TI23J', 'Kamis'] | Fitness: 15\n",
            "Generasi 24: ['Dosen C', 'Big Data', 'Kelas TI23J', 'Kamis'] | Fitness: 17\n",
            "Generasi 25: ['Dosen C', 'Big Data', 'Kelas TI23G', 'Kamis'] | Fitness: 18\n",
            "Generasi 26: ['Dosen B', 'Big Data', 'Kelas TI23G', 'Kamis'] | Fitness: 20\n",
            "Generasi 27: ['Dosen B', 'Internet Of Things', 'Kelas TI23G', 'Senin'] | Fitness: 16\n",
            "Generasi 28: ['Dosen B', 'Internet Of Things', 'Kelas TI23G', 'Senin'] | Fitness: 18\n",
            "Generasi 29: ['Dosen B', 'Kecerdasan Buatan', 'Kelas TI23G', 'Senin'] | Fitness: 21\n",
            "Generasi 30: ['Dosen B', 'Kecerdasan Buatan', 'Kelas TI23G', 'Senin'] | Fitness: 25\n",
            "Generasi 31: ['Dosen B', 'Kecerdasan Buatan', 'Kelas TI23J', 'Senin'] | Fitness: 25\n",
            "Generasi 32: ['Dosen B', 'Big Data', 'Kelas TI23J', 'Senin'] | Fitness: 27\n",
            "Generasi 33: ['Dosen B', 'Internet Of Things', 'Kelas TI23J', 'Senin'] | Fitness: 30\n",
            "Generasi 34: ['Dosen C', 'Internet Of Things', 'Kelas TI23J', 'Senin'] | Fitness: 34\n",
            "Generasi 35: ['Dosen C', 'Internet Of Things', 'Kelas TI23F', 'Selasa'] | Fitness: 30\n",
            "Generasi 36: ['Dosen A', 'Internet Of Things', 'Kelas TI23F', 'Selasa'] | Fitness: 32\n",
            "Generasi 37: ['Dosen C', 'Internet Of Things', 'Kelas TI23F', 'Selasa'] | Fitness: 35\n",
            "Generasi 38: ['Dosen A', 'Kecerdasan Buatan', 'Kelas TI23F', 'Selasa'] | Fitness: 39\n",
            "Generasi 39: ['Dosen C', 'Kecerdasan Buatan', 'Kelas TI23F', 'Kamis'] | Fitness: 38\n",
            "Generasi 40: ['Dosen A', 'Kecerdasan Buatan', 'Kelas TI23F', 'Kamis'] | Fitness: 40\n",
            "Generasi 41: ['Dosen A', 'Internet Of Things', 'Kelas TI23F', 'Kamis'] | Fitness: 43\n",
            "Generasi 42: ['Dosen C', 'Internet Of Things', 'Kelas TI23F', 'Kamis'] | Fitness: 47\n",
            "Generasi 43: ['Dosen A', 'Kecerdasan Buatan', 'Kelas TI23F', 'Kamis'] | Fitness: 52\n",
            "Generasi 44: ['Dosen B', 'Kecerdasan Buatan', 'Kelas TI23F', 'Kamis'] | Fitness: 58\n",
            "Generasi 45: ['Dosen B', 'Kecerdasan Buatan', 'Kelas TI23F', 'Kamis'] | Fitness: 65\n",
            "Generasi 46: ['Dosen C', 'Big Data', 'Kelas TI23F', 'Kamis'] | Fitness: 73\n",
            "Generasi 47: ['Dosen C', 'Big Data', 'Kelas TI23F', 'Kamis'] | Fitness: 82\n",
            "Generasi 48: ['Dosen C', 'Kecerdasan Buatan', 'Kelas TI23F', 'Kamis'] | Fitness: 92\n",
            "Generasi 49: ['Dosen C', 'Big Data', 'Kelas TI23G', 'Rabu'] | Fitness: 73\n",
            "Generasi 50: ['Dosen C', 'Big Data', 'Kelas TI23G', 'Rabu'] | Fitness: 76\n",
            "\n",
            "Jadwal Akhir:\n",
            "Kelas TI23F - Big Data oleh Dosen C pada Kamis\n",
            "Kelas TI23J - Kecerdasan Buatan oleh Dosen C pada Selasa\n",
            "Kelas TI23F - Big Data oleh Dosen C pada Senin\n",
            "Kelas TI23F - Kecerdasan Buatan oleh Dosen C pada Senin\n",
            "Kelas TI23F - Internet Of Things oleh Dosen B pada Selasa\n",
            "Kelas TI23J - Internet Of Things oleh Dosen B pada Senin\n",
            "Kelas TI23G - Internet Of Things oleh Dosen B pada Kamis\n",
            "Kelas TI23J - Internet Of Things oleh Dosen B pada Kamis\n",
            "Kelas TI23G - Internet Of Things oleh Dosen A pada Selasa\n",
            "Kelas TI23G - Internet Of Things oleh Dosen A pada Selasa\n",
            "Kelas TI23G - Internet Of Things oleh Dosen B pada Senin\n",
            "Kelas TI23G - Kecerdasan Buatan oleh Dosen B pada Rabu\n",
            "Kelas TI23G - Kecerdasan Buatan oleh Dosen A pada Rabu\n",
            "Kelas TI23J - Kecerdasan Buatan oleh Dosen A pada Rabu\n",
            "Kelas TI23J - Kecerdasan Buatan oleh Dosen C pada Rabu\n",
            "Kelas TI23F - Kecerdasan Buatan oleh Dosen C pada Rabu\n",
            "Kelas TI23F - Kecerdasan Buatan oleh Dosen C pada Rabu\n",
            "Kelas TI23F - Kecerdasan Buatan oleh Dosen A pada Rabu\n",
            "Kelas TI23F - Big Data oleh Dosen C pada Rabu\n",
            "Kelas TI23F - Big Data oleh Dosen C pada Rabu\n",
            "Kelas TI23F - Big Data oleh Dosen C pada Rabu\n",
            "Kelas TI23J - Big Data oleh Dosen C pada Rabu\n",
            "Kelas TI23J - Big Data oleh Dosen C pada Kamis\n",
            "Kelas TI23J - Big Data oleh Dosen C pada Kamis\n",
            "Kelas TI23G - Big Data oleh Dosen C pada Kamis\n",
            "Kelas TI23G - Big Data oleh Dosen B pada Kamis\n",
            "Kelas TI23G - Internet Of Things oleh Dosen B pada Senin\n",
            "Kelas TI23G - Internet Of Things oleh Dosen B pada Senin\n",
            "Kelas TI23G - Kecerdasan Buatan oleh Dosen B pada Senin\n",
            "Kelas TI23G - Kecerdasan Buatan oleh Dosen B pada Senin\n",
            "Kelas TI23J - Kecerdasan Buatan oleh Dosen B pada Senin\n",
            "Kelas TI23J - Big Data oleh Dosen B pada Senin\n",
            "Kelas TI23J - Internet Of Things oleh Dosen B pada Senin\n",
            "Kelas TI23J - Internet Of Things oleh Dosen C pada Senin\n",
            "Kelas TI23F - Internet Of Things oleh Dosen C pada Selasa\n",
            "Kelas TI23F - Internet Of Things oleh Dosen A pada Selasa\n",
            "Kelas TI23F - Internet Of Things oleh Dosen C pada Selasa\n",
            "Kelas TI23F - Kecerdasan Buatan oleh Dosen A pada Selasa\n",
            "Kelas TI23F - Kecerdasan Buatan oleh Dosen C pada Kamis\n",
            "Kelas TI23F - Kecerdasan Buatan oleh Dosen A pada Kamis\n",
            "Kelas TI23F - Internet Of Things oleh Dosen A pada Kamis\n",
            "Kelas TI23F - Internet Of Things oleh Dosen C pada Kamis\n",
            "Kelas TI23F - Kecerdasan Buatan oleh Dosen A pada Kamis\n",
            "Kelas TI23F - Kecerdasan Buatan oleh Dosen B pada Kamis\n",
            "Kelas TI23F - Kecerdasan Buatan oleh Dosen B pada Kamis\n",
            "Kelas TI23F - Big Data oleh Dosen C pada Kamis\n",
            "Kelas TI23F - Big Data oleh Dosen C pada Kamis\n",
            "Kelas TI23F - Kecerdasan Buatan oleh Dosen C pada Kamis\n",
            "Kelas TI23G - Big Data oleh Dosen C pada Rabu\n",
            "Kelas TI23G - Big Data oleh Dosen C pada Rabu\n"
          ]
        }
      ],
      "source": [
        "def genetic_algorithm():\n",
        "    population_size = 10\n",
        "    generations = 50\n",
        "    population = [create_individual() for _ in range(population_size)]\n",
        "    schedule = []\n",
        "\n",
        "    for generation in range(generations):\n",
        "        new_population = []\n",
        "        for _ in range(population_size // 2):\n",
        "            parent1, parent2 = selection(population, schedule)\n",
        "            child1, child2 = crossover(parent1, parent2)\n",
        "            new_population.extend([mutate(child1), mutate(child2)])\n",
        "        population = new_population\n",
        "        best_individual = min(population, key=lambda ind: fitness(ind, schedule))\n",
        "        schedule.append(best_individual)\n",
        "        print(f\"Generasi {generation + 1}: {best_individual} | Fitness: {fitness(best_individual, schedule)}\")\n",
        "\n",
        "    print(\"\\nJadwal Akhir:\")\n",
        "    for ind in schedule:\n",
        "        print(f\"{ind[2]} - {ind[1]} oleh {ind[0]} pada {ind[3]}\")\n",
        "\n",
        "genetic_algorithm()"
      ]
    }
  ],
  "metadata": {
    "colab": {
      "provenance": []
    },
    "language_info": {
      "name": "python"
    },
    "kernelspec": {
      "name": "python3",
      "display_name": "Python 3"
    }
  },
  "nbformat": 4,
  "nbformat_minor": 5
}