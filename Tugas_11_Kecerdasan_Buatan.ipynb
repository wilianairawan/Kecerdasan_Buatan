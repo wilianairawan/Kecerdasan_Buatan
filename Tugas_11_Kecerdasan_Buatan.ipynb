{
  "nbformat": 4,
  "nbformat_minor": 0,
  "metadata": {
    "colab": {
      "provenance": [],
      "authorship_tag": "ABX9TyNLN9DPVfX+OX5+y1fuNxI0",
      "include_colab_link": true
    },
    "kernelspec": {
      "name": "python3",
      "display_name": "Python 3"
    },
    "language_info": {
      "name": "python"
    }
  },
  "cells": [
    {
      "cell_type": "markdown",
      "metadata": {
        "id": "view-in-github",
        "colab_type": "text"
      },
      "source": [
        "<a href=\"https://colab.research.google.com/github/wilianairawan/Kecerdasan_Buatan/blob/main/Tugas_11_Kecerdasan_Buatan.ipynb\" target=\"_parent\"><img src=\"https://colab.research.google.com/assets/colab-badge.svg\" alt=\"Open In Colab\"/></a>"
      ]
    },
    {
      "cell_type": "markdown",
      "source": [
        "*CONTOH CODE DALAM BAHASA INDONESIA*\n"
      ],
      "metadata": {
        "id": "FHcaAilopsZv"
      }
    },
    {
      "cell_type": "markdown",
      "source": [
        "Code Tersebut Mengeluarkan Output Abgka Yang Dimulai dari angka Genap Yaitu 2 sampai ke 20 yang mana angka tersebut berkelipatan 2"
      ],
      "metadata": {
        "id": "OJuXrIdQsUyW"
      }
    },
    {
      "cell_type": "code",
      "execution_count": 15,
      "metadata": {
        "colab": {
          "base_uri": "https://localhost:8080/"
        },
        "id": "vR6YViYapnvn",
        "outputId": "0dccd2be-c280-40d5-9e27-6a779d62edac"
      },
      "outputs": [
        {
          "output_type": "stream",
          "name": "stdout",
          "text": [
            "2\n",
            "4\n",
            "6\n",
            "8\n",
            "10\n",
            "12\n",
            "14\n",
            "16\n",
            "18\n",
            "20\n"
          ]
        }
      ],
      "source": [
        "for i in range (1, 21):\n",
        "    if i % 2 ==0:\n",
        "      print(i)"
      ]
    }
  ]
}